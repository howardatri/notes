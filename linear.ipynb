{
  "nbformat": 4,
  "nbformat_minor": 0,
  "metadata": {
    "colab": {
      "provenance": [],
      "authorship_tag": "ABX9TyNfrzJSsx6ugFCoyUoBrkS9",
      "include_colab_link": true
    },
    "kernelspec": {
      "name": "python3",
      "display_name": "Python 3"
    },
    "language_info": {
      "name": "python"
    }
  },
  "cells": [
    {
      "cell_type": "markdown",
      "metadata": {
        "id": "view-in-github",
        "colab_type": "text"
      },
      "source": [
        "<a href=\"https://colab.research.google.com/github/howardatri/notes/blob/main/linear.ipynb\" target=\"_parent\"><img src=\"https://colab.research.google.com/assets/colab-badge.svg\" alt=\"Open In Colab\"/></a>"
      ]
    },
    {
      "cell_type": "code",
      "execution_count": 15,
      "metadata": {
        "id": "I6hXmyFHpWZc"
      },
      "outputs": [],
      "source": [
        "%matplotlib inline\n",
        "import random\n",
        "import torch\n"
      ]
    },
    {
      "cell_type": "code",
      "source": [
        "def synthetic_data(w,b,num_examples):\n",
        "  \"\"\" 生成y = xw + b +噪声\"\"\"\n",
        "  X= torch.normal(0,1,(num_examples,len(w)))\n",
        "  y = torch.matmul(X, w.reshape((-1, 1))) + b\n",
        "  y += torch.normal(0,0.01,y.shape)\n",
        "  return X , y.reshape((-1,1))"
      ],
      "metadata": {
        "id": "Eqp_7UUHpniD"
      },
      "execution_count": 18,
      "outputs": []
    },
    {
      "cell_type": "code",
      "source": [
        "true_w = torch.tensor([2,-3.4])\n",
        "true_b = 4.2\n",
        "features, labels = synthetic_data(true_w,true_b,1000)"
      ],
      "metadata": {
        "id": "ycOQOD2qqGh-"
      },
      "execution_count": 19,
      "outputs": []
    },
    {
      "cell_type": "code",
      "source": [
        "print('features:',features[0],'\\nlabel:',labels[0])\n"
      ],
      "metadata": {
        "colab": {
          "base_uri": "https://localhost:8080/"
        },
        "id": "NrPevDpLqtwh",
        "outputId": "2f99b246-c473-43cc-c3c8-6d2911e7a0dc"
      },
      "execution_count": 20,
      "outputs": [
        {
          "output_type": "stream",
          "name": "stdout",
          "text": [
            "features: tensor([-2.5321, -0.1459]) \n",
            "label: tensor([-0.3556])\n"
          ]
        }
      ]
    },
    {
      "cell_type": "code",
      "source": [
        "from matplotlib import pyplot as plt\n",
        "\n",
        "# Detach features and labels from the computation graph and convert to numpy\n",
        "plt.scatter(features[:, 0].detach().numpy(), labels.detach().numpy(), 1);"
      ],
      "metadata": {
        "colab": {
          "base_uri": "https://localhost:8080/",
          "height": 430
        },
        "id": "HRrcnQ9UrGnd",
        "outputId": "01989812-58f5-4fdc-b1cf-277ae66fad7b"
      },
      "execution_count": 21,
      "outputs": [
        {
          "output_type": "display_data",
          "data": {
            "text/plain": [
              "<Figure size 640x480 with 1 Axes>"
            ],
            "image/png": "[encoded data removed]"
          },
          "metadata": {}
        }
      ]
    },
    {
      "cell_type": "markdown",
      "source": [
        "定义一个data_iter函数，接收批量大小，特征矩阵和标签向量作为输入，生成大小为batch_size的小批量\n"
      ],
      "metadata": {
        "id": "TSW9QFTcrlW-"
      }
    },
    {
      "cell_type": "code",
      "source": [
        "def data_iter(batch_size, features, labels):\n",
        "    num_examples = len(features)\n",
        "    indices = list(range(num_examples))\n",
        "    # These examples are read at random, without a particular order\n",
        "    random.shuffle(indices)\n",
        "\n",
        "    for i in range(0, num_examples, batch_size):\n",
        "        batch_indices = torch.tensor(\n",
        "            indices[i: min(i + batch_size, num_examples)])\n",
        "        yield features[batch_indices], labels[batch_indices]\n",
        "batch_size = 10\n",
        "\n",
        "for X, y in data_iter(batch_size, features, labels):\n",
        "  print(X, '\\n',y)\n",
        "  break"
      ],
      "metadata": {
        "colab": {
          "base_uri": "https://localhost:8080/"
        },
        "id": "Zt3W-x6Fr2ae",
        "outputId": "379cd185-7005-4661-97f6-d38db28368db"
      },
      "execution_count": 25,
      "outputs": [
        {
          "output_type": "stream",
          "name": "stdout",
          "text": [
            "tensor([[-0.9495, -0.9787],\n",
            "        [ 0.2820, -0.7350],\n",
            "        [-2.3253,  0.6445],\n",
            "        [-0.4954, -1.9017],\n",
            "        [ 0.6174, -1.3527],\n",
            "        [-0.7719,  1.5371],\n",
            "        [-0.9994,  1.0574],\n",
            "        [-0.4650,  0.7319],\n",
            "        [-0.4263,  0.6137],\n",
            "        [-0.7856,  0.0946]]) \n",
            " tensor([[ 5.6184],\n",
            "        [ 7.2557],\n",
            "        [-2.6425],\n",
            "        [ 9.6681],\n",
            "        [10.0316],\n",
            "        [-2.5560],\n",
            "        [-1.3872],\n",
            "        [ 0.7824],\n",
            "        [ 1.2491],\n",
            "        [ 2.3150]])\n"
          ]
        }
      ]
    },
    {
      "cell_type": "code",
      "source": [
        "# 定义初始化模型参数\n",
        "w = torch.normal(0,0.01,size=(2,1),requires_grad=True)\n",
        "b = torch.zeros(1,requires_grad=True)\n",
        "#定义模型\n",
        "def linreg(X,w,b):\n",
        "  \"\"\"线性回归模型\"\"\"\n",
        "  return torch.matmul(X,w) + b\n",
        "\n"
      ],
      "metadata": {
        "id": "N_npkyEUsOdG"
      },
      "execution_count": 27,
      "outputs": []
    },
    {
      "cell_type": "code",
      "source": [
        "# 定义损失函数\n",
        "def squared_loss(y_hat,y):\n",
        "  \"\"\"均方损失\"\"\"\n",
        "  return (y_hat - y.reshape(y_hat.shape))**2 / 2\n",
        ""
      ],
      "metadata": {
        "id": "snZ2KPziwJtr"
      },
      "execution_count": 28,
      "outputs": []
    },
    {
      "cell_type": "code",
      "source": [
        "# 定义优化算法\n",
        "def sgd(params,lr,batch_size):\n",
        "  \"\"\"小批量随机梯度下降\"\"\"\n",
        "  with torch.no_grad():\n",
        "    for param in params:\n",
        "      param -= lr * param.grad / batch_size\n",
        "      param.grad.zero_()\n"
      ],
      "metadata": {
        "id": "pcn3nCiawuBg"
      },
      "execution_count": 35,
      "outputs": []
    },
    {
      "cell_type": "code",
      "source": [
        "lr = 0.02  # 学习率\n",
        "num_epochs = 10  # 训练轮数\n",
        "net = linreg  # 线性回归模型\n",
        "loss = squared_loss  # 均方损失函数\n",
        "\n",
        "for epoch in range(num_epochs):\n",
        "    for X, y in data_iter(batch_size, features, labels):\n",
        "        l = loss(net(X, w, b), y)  # X和y的小批量损失\n",
        "        # 计算l关于[w,b]的梯度\n",
        "        l.sum().backward()\n",
        "        sgd([w, b], lr, batch_size)  # 使用参数的梯度更新参数\n",
        "    with torch.no_grad():\n",
        "        train_l = loss(net(features, w, b), labels)\n",
        "        print(f'epoch {epoch + 1}, loss {float(train_l.mean()):f}')"
      ],
      "metadata": {
        "colab": {
          "base_uri": "https://localhost:8080/"
        },
        "id": "5bARwCWRyDVE",
        "outputId": "bdf8ebaf-34b2-4177-aa44-8162c541bc1e"
      },
      "execution_count": 53,
      "outputs": [
        {
          "output_type": "stream",
          "name": "stdout",
          "text": [
            "epoch 1, loss 0.000053\n",
            "epoch 2, loss 0.000053\n",
            "epoch 3, loss 0.000053\n",
            "epoch 4, loss 0.000053\n",
            "epoch 5, loss 0.000053\n",
            "epoch 6, loss 0.000053\n",
            "epoch 7, loss 0.000053\n",
            "epoch 8, loss 0.000053\n",
            "epoch 9, loss 0.000053\n",
            "epoch 10, loss 0.000053\n"
          ]
        }
      ]
    },
    {
      "cell_type": "code",
      "source": [],
      "metadata": {
        "id": "PYHJSuQnyVyE"
      },
      "execution_count": null,
      "outputs": []
    }
  ]
}