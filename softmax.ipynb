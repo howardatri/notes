{
  "nbformat": 4,
  "nbformat_minor": 0,
  "metadata": {
    "colab": {
      "provenance": [],
      "authorship_tag": "ABX9TyM5rDsFB16GD3z7D9uy9129",
      "include_colab_link": true
    },
    "kernelspec": {
      "name": "python3",
      "display_name": "Python 3"
    },
    "language_info": {
      "name": "python"
    }
  },
  "cells": [
    {
      "cell_type": "markdown",
      "metadata": {
        "id": "view-in-github",
        "colab_type": "text"
      },
      "source": [
        "<a href=\"https://colab.research.google.com/github/howardatri/notes/blob/main/softmax.ipynb\" target=\"_parent\"><img src=\"https://colab.research.google.com/assets/colab-badge.svg\" alt=\"Open In Colab\"/></a>"
      ]
    },
    {
      "cell_type": "code",
      "execution_count": 3,
      "metadata": {
        "id": "LYBopMpx2Cnh"
      },
      "outputs": [],
      "source": [
        "import matplotlib\n",
        "import pandas as pd\n",
        "import torch\n"
      ]
    },
    {
      "cell_type": "code",
      "source": [
        "import torch\n",
        "import torch.nn as nn\n",
        "import torch.optim as optim\n",
        "from torchvision import datasets, transforms\n",
        "\n",
        "# Define the Softmax Regression model\n",
        "class SoftmaxRegression(nn.Module):\n",
        "    def __init__(self, input_dim, output_dim):\n",
        "        super(SoftmaxRegression, self).__init__()\n",
        "        self.linear = nn.Linear(input_dim, output_dim)\n",
        "\n",
        "    def forward(self, x):\n",
        "        outputs = self.linear(x)\n",
        "        return outputs\n",
        "\n",
        "# Set device\n",
        "device = torch.device('cuda' if torch.cuda.is_available() else 'cpu')\n",
        "\n",
        "# Hyperparameters\n",
        "input_size = 784  # 28x28 pixels\n",
        "num_classes = 10\n",
        "learning_rate = 0.001\n",
        "num_epochs = 5\n",
        "batch_size = 100\n",
        "\n",
        "# MNIST dataset\n",
        "train_dataset = datasets.MNIST(root='./data',\n",
        "                               train=True,\n",
        "                               transform=transforms.ToTensor(),\n",
        "                               download=True)\n",
        "\n",
        "test_dataset = datasets.MNIST(root='./data',\n",
        "                              train=False,\n",
        "                              transform=transforms.ToTensor())\n",
        "\n",
        "# Data loader\n",
        "train_loader = torch.utils.data.DataLoader(dataset=train_dataset,\n",
        "                                           batch_size=batch_size,\n",
        "                                           shuffle=True)\n",
        "\n",
        "test_loader = torch.utils.data.DataLoader(dataset=test_dataset,\n",
        "                                          batch_size=batch_size,\n",
        "                                          shuffle=False)\n",
        "\n",
        "# Model\n",
        "model = SoftmaxRegression(input_size, num_classes).to(device)\n",
        "\n",
        "# Loss and optimizer\n",
        "criterion = nn.CrossEntropyLoss()\n",
        "optimizer = optim.Adam(model.parameters(), lr=learning_rate)\n",
        "\n",
        "# Training loop\n",
        "total_step = len(train_loader)\n",
        "for epoch in range(num_epochs):\n",
        "    for i, (images, labels) in enumerate(train_loader):\n",
        "        # Reshape images to (batch_size, input_size)\n",
        "        images = images.reshape(-1, input_size).to(device)\n",
        "        labels = labels.to(device)\n",
        "\n",
        "        # Forward pass\n",
        "        outputs = model(images)\n",
        "        loss = criterion(outputs, labels)\n",
        "\n",
        "        # Backward and optimize\n",
        "        optimizer.zero_grad()\n",
        "        loss.backward()\n",
        "        optimizer.step()\n",
        "\n",
        "        if (i + 1) % 100 == 0:\n",
        "            print('Epoch [{}/{}], Step [{}/{}], Loss: {:.4f}'\n",
        "                  .format(epoch + 1, num_epochs, i + 1, total_step, loss.item()))\n",
        "\n",
        "# Test the model\n",
        "model.eval()  # eval mode (batchnorm uses moving mean/variance; dropout uses its bias)\n",
        "with torch.no_grad():\n",
        "    correct = 0\n",
        "    total = 0\n",
        "    for images, labels in test_loader:\n",
        "        images = images.reshape(-1, input_size).to(device)\n",
        "        labels = labels.to(device)\n",
        "        outputs = model(images)\n",
        "        _, predicted = torch.max(outputs.data, 1)\n",
        "        total += labels.size(0)\n",
        "        correct += (predicted == labels).sum().item()\n",
        "\n",
        "    print('Accuracy of the model on the 10000 test images: {} %'.format(100 * correct / total))"
      ],
      "metadata": {
        "colab": {
          "base_uri": "https://localhost:8080/"
        },
        "id": "ns44UpywTTv8",
        "outputId": "69c6e354-badb-40cd-fb27-f77ec50f5bf1"
      },
      "execution_count": 4,
      "outputs": [
        {
          "output_type": "stream",
          "name": "stderr",
          "text": [
            "100%|██████████| 9.91M/9.91M [00:00<00:00, 20.0MB/s]\n",
            "100%|██████████| 28.9k/28.9k [00:00<00:00, 485kB/s]\n",
            "100%|██████████| 1.65M/1.65M [00:00<00:00, 4.46MB/s]\n",
            "100%|██████████| 4.54k/4.54k [00:00<00:00, 9.82MB/s]\n"
          ]
        },
        {
          "output_type": "stream",
          "name": "stdout",
          "text": [
            "Epoch [1/5], Step [100/600], Loss: 0.8651\n",
            "Epoch [1/5], Step [200/600], Loss: 0.6646\n",
            "Epoch [1/5], Step [300/600], Loss: 0.5209\n",
            "Epoch [1/5], Step [400/600], Loss: 0.3465\n",
            "Epoch [1/5], Step [500/600], Loss: 0.4291\n",
            "Epoch [1/5], Step [600/600], Loss: 0.3537\n",
            "Epoch [2/5], Step [100/600], Loss: 0.2984\n",
            "Epoch [2/5], Step [200/600], Loss: 0.3023\n",
            "Epoch [2/5], Step [300/600], Loss: 0.3541\n",
            "Epoch [2/5], Step [400/600], Loss: 0.3769\n",
            "Epoch [2/5], Step [500/600], Loss: 0.2538\n",
            "Epoch [2/5], Step [600/600], Loss: 0.4299\n",
            "Epoch [3/5], Step [100/600], Loss: 0.2400\n",
            "Epoch [3/5], Step [200/600], Loss: 0.2869\n",
            "Epoch [3/5], Step [300/600], Loss: 0.2448\n",
            "Epoch [3/5], Step [400/600], Loss: 0.2080\n",
            "Epoch [3/5], Step [500/600], Loss: 0.3225\n",
            "Epoch [3/5], Step [600/600], Loss: 0.3318\n",
            "Epoch [4/5], Step [100/600], Loss: 0.2545\n",
            "Epoch [4/5], Step [200/600], Loss: 0.2363\n",
            "Epoch [4/5], Step [300/600], Loss: 0.2138\n",
            "Epoch [4/5], Step [400/600], Loss: 0.2895\n",
            "Epoch [4/5], Step [500/600], Loss: 0.2218\n",
            "Epoch [4/5], Step [600/600], Loss: 0.1502\n",
            "Epoch [5/5], Step [100/600], Loss: 0.2251\n",
            "Epoch [5/5], Step [200/600], Loss: 0.2444\n",
            "Epoch [5/5], Step [300/600], Loss: 0.2864\n",
            "Epoch [5/5], Step [400/600], Loss: 0.3056\n",
            "Epoch [5/5], Step [500/600], Loss: 0.2163\n",
            "Epoch [5/5], Step [600/600], Loss: 0.1873\n",
            "Accuracy of the model on the 10000 test images: 92.42 %\n"
          ]
        }
      ]
    }
  ]
}