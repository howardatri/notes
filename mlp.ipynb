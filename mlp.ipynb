{
  "nbformat": 4,
  "nbformat_minor": 0,
  "metadata": {
    "colab": {
      "provenance": [],
      "authorship_tag": "ABX9TyNNWuSemXy9LxQoNkpQMGZf",
      "include_colab_link": true
    },
    "kernelspec": {
      "name": "python3",
      "display_name": "Python 3"
    },
    "language_info": {
      "name": "python"
    }
  },
  "cells": [
    {
      "cell_type": "markdown",
      "metadata": {
        "id": "view-in-github",
        "colab_type": "text"
      },
      "source": [
        "<a href=\"https://colab.research.google.com/github/howardatri/notes/blob/main/mlp.ipynb\" target=\"_parent\"><img src=\"https://colab.research.google.com/assets/colab-badge.svg\" alt=\"Open In Colab\"/></a>"
      ]
    },
    {
      "cell_type": "code",
      "execution_count": 4,
      "metadata": {
        "colab": {
          "base_uri": "https://localhost:8080/"
        },
        "id": "PabPiU-kVBC7",
        "outputId": "88d7d9c1-90ba-41b9-bc56-9e8d1a1804d0"
      },
      "outputs": [
        {
          "output_type": "stream",
          "name": "stdout",
          "text": [
            "Epoch 1000, Loss: 0.2500\n",
            "Epoch 2000, Loss: 0.2500\n",
            "Epoch 3000, Loss: 0.2500\n",
            "Epoch 4000, Loss: 0.2500\n",
            "Epoch 5000, Loss: 0.2500\n",
            "Epoch 6000, Loss: 0.2500\n",
            "Epoch 7000, Loss: 0.2500\n",
            "Epoch 8000, Loss: 0.2500\n",
            "Epoch 9000, Loss: 0.2500\n",
            "Epoch 10000, Loss: 0.2500\n",
            "\n",
            "预测结果:\n",
            "输入: [0 0], 预测输出: 0.5000\n",
            "输入: [0 1], 预测输出: 0.5000\n",
            "输入: [1 0], 预测输出: 0.5000\n",
            "输入: [1 1], 预测输出: 0.5000\n"
          ]
        }
      ],
      "source": [
        "import numpy as np\n",
        "\n",
        "# 定义 Sigmoid 激活函数\n",
        "def sigmoid(x):\n",
        "    return 1 / (1 + np.exp(-x))\n",
        "\n",
        "# 定义 Sigmoid 激活函数的导数\n",
        "def sigmoid_derivative(x):\n",
        "    return x * (1 - x)\n",
        "\n",
        "# 定义 MLP 类\n",
        "class MLP:\n",
        "    def __init__(self, input_size, hidden_size1, hidden_size2, output_size):\n",
        "        # 初始化权重和偏置\n",
        "\n",
        "        # 第一个隐藏层权重\n",
        "        self.weights_input_hidden1 = np.random.rand(input_size, hidden_size1) * 0.01\n",
        "        # 第一个隐藏层偏置\n",
        "        self.bias_hidden1 = np.zeros((1, hidden_size1))\n",
        "\n",
        "        # 第二个隐藏层权重\n",
        "        self.weights_hidden1_hidden2 = np.random.rand(hidden_size1, hidden_size2) * 0.01\n",
        "        # 第二个隐藏层偏置\n",
        "        self.bias_hidden2 = np.zeros((1, hidden_size2))\n",
        "\n",
        "        # 输出层权重\n",
        "        self.weights_hidden2_output = np.random.rand(hidden_size2, output_size) * 0.01\n",
        "        # 输出层偏置\n",
        "        self.bias_output = np.zeros((1, output_size))\n",
        "\n",
        "    # 前向传播\n",
        "    def forward(self, X):\n",
        "        # 计算第一个隐藏层输入\n",
        "        self.hidden_layer1_input = np.dot(X, self.weights_input_hidden1) + self.bias_hidden1\n",
        "        # 计算第一个隐藏层输出（应用激活函数）\n",
        "        self.hidden_layer1_output = sigmoid(self.hidden_layer1_input)\n",
        "\n",
        "        # 计算第二个隐藏层输入\n",
        "        self.hidden_layer2_input = np.dot(self.hidden_layer1_output, self.weights_hidden1_hidden2) + self.bias_hidden2\n",
        "        # 计算第二个隐藏层输出（应用激活函数）\n",
        "        self.hidden_layer2_output = sigmoid(self.hidden_layer2_input)\n",
        "\n",
        "\n",
        "        # 计算输出层输入\n",
        "        self.output_layer_input = np.dot(self.hidden_layer2_output, self.weights_hidden2_output) + self.bias_output\n",
        "        # 计算输出层输出（应用激活函数）\n",
        "        self.predicted_output = sigmoid(self.output_layer_input)\n",
        "\n",
        "        return self.predicted_output\n",
        "\n",
        "    # 反向传播\n",
        "    def backward(self, X, y, learning_rate):\n",
        "        # 计算输出层误差\n",
        "        output_error = y - self.predicted_output\n",
        "        # 计算输出层 Delta（误差乘以激活函数的导数）\n",
        "        output_delta = output_error * sigmoid_derivative(self.predicted_output)\n",
        "\n",
        "        # 计算第二个隐藏层误差（通过输出层 Delta 反向传播）\n",
        "        hidden_layer2_error = output_delta.dot(self.weights_hidden2_output.T)\n",
        "        # 计算第二个隐藏层 Delta（误差乘以激活函数的导数）\n",
        "        hidden_layer2_delta = hidden_layer2_error * sigmoid_derivative(self.hidden_layer2_output)\n",
        "\n",
        "        # 计算第一个隐藏层误差（通过第二个隐藏层 Delta 反向传播）\n",
        "        hidden_layer1_error = hidden_layer2_delta.dot(self.weights_hidden1_hidden2.T)\n",
        "        # 计算第一个隐藏层 Delta（误差乘以激活函数的导数）\n",
        "        hidden_layer1_delta = hidden_layer1_error * sigmoid_derivative(self.hidden_layer1_output)\n",
        "\n",
        "\n",
        "        # 更新输出层权重和偏置\n",
        "        self.weights_hidden2_output += self.hidden_layer2_output.T.dot(output_delta) * learning_rate\n",
        "        self.bias_output += np.sum(output_delta, axis=0, keepdims=True) * learning_rate\n",
        "\n",
        "        # 更新第二个隐藏层权重和偏置\n",
        "        self.weights_hidden1_hidden2 += self.hidden_layer1_output.T.dot(hidden_layer2_delta) * learning_rate\n",
        "        self.bias_hidden2 += np.sum(hidden_layer2_delta, axis=0, keepdims=True) * learning_rate\n",
        "\n",
        "        # 更新第一个隐藏层权重和偏置\n",
        "        self.weights_input_hidden1 += X.T.dot(hidden_layer1_delta) * learning_rate\n",
        "        self.bias_hidden1 += np.sum(hidden_layer1_delta, axis=0, keepdims=True) * learning_rate\n",
        "\n",
        "    # 训练模型\n",
        "    def train(self, X, y, epochs, learning_rate):\n",
        "        for epoch in range(epochs):\n",
        "            # 前向传播\n",
        "            predicted_output = self.forward(X)\n",
        "            # 反向传播并更新权重\n",
        "            self.backward(X, y, learning_rate)\n",
        "\n",
        "            # 每隔一定 epochs 打印损失\n",
        "            if (epoch + 1) % 1000 == 0:\n",
        "                loss = np.mean(np.square(y - predicted_output))\n",
        "                print(f\"Epoch {epoch+1}, Loss: {loss:.4f}\")\n",
        "\n",
        "# 示例用法\n",
        "# 输入数据 (例如，用于解决 XOR 问题)\n",
        "X = np.array([[0, 0], [0, 1], [1, 0], [1, 1]])\n",
        "# 对应的标签\n",
        "y = np.array([[0], [1], [1], [0]])\n",
        "\n",
        "# 创建一个 MLP 实例\n",
        "# 输入层大小为 2，第一个隐藏层大小为 4，第二个隐藏层大小为 4，输出层大小为 1\n",
        "mlp = MLP(input_size=2, hidden_size1=4, hidden_size2=4, output_size=1)\n",
        "\n",
        "# 训练模型\n",
        "epochs = 10000\n",
        "learning_rate = 0.1\n",
        "mlp.train(X, y, epochs, learning_rate)\n",
        "\n",
        "# 预测\n",
        "print(\"\\n预测结果:\")\n",
        "for i in range(len(X)):\n",
        "    prediction = mlp.forward(X[i])\n",
        "    print(f\"输入: {X[i]}, 预测输出: {prediction[0].item():.4f}\") # Use .item() to extract the scalar value"
      ]
    },
    {
      "cell_type": "markdown",
      "source": [],
      "metadata": {
        "id": "5Qiu1wV_Vwc_"
      }
    }
  ]
}