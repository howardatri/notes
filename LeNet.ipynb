{
  "nbformat": 4,
  "nbformat_minor": 0,
  "metadata": {
    "colab": {
      "provenance": [],
      "authorship_tag": "ABX9TyPn//Pw7JGhDllTWQ/eXXhm",
      "include_colab_link": true
    },
    "kernelspec": {
      "name": "python3",
      "display_name": "Python 3"
    },
    "language_info": {
      "name": "python"
    }
  },
  "cells": [
    {
      "cell_type": "markdown",
      "metadata": {
        "id": "view-in-github",
        "colab_type": "text"
      },
      "source": [
        "<a href=\"https://colab.research.google.com/github/howardatri/notes/blob/main/LeNet.ipynb\" target=\"_parent\"><img src=\"https://colab.research.google.com/assets/colab-badge.svg\" alt=\"Open In Colab\"/></a>"
      ]
    },
    {
      "cell_type": "markdown",
      "source": [],
      "metadata": {
        "id": "5Qiu1wV_Vwc_"
      }
    },
    {
      "cell_type": "code",
      "source": [
        "import torch\n",
        "import torch.nn as nn\n",
        "import torch.nn.functional as F\n",
        "\n",
        "# 定义 LeNet 模型\n",
        "class LeNet(nn.Module):\n",
        "    def __init__(self):\n",
        "        super(LeNet, self).__init__()\n",
        "        # 第一个卷积层，输入通道1，输出通道6，卷积核大小5x5\n",
        "        self.conv1 = nn.Conv2d(1, 6, 5)\n",
        "        # 第二个卷积层，输入通道6，输出通道16，卷积核大小5x5\n",
        "        self.conv2 = nn.Conv2d(6, 16, 5)\n",
        "\n",
        "        # 为了计算第一个全连接层的输入尺寸，我们通过一个 dummy tensor 来确定\n",
        "        # 输入图像尺寸为 28x28\n",
        "        dummy_input = torch.randn(1, 1, 28, 28)\n",
        "        x = F.max_pool2d(F.relu(self.conv1(dummy_input)), (2, 2))\n",
        "        x = F.max_pool2d(F.relu(self.conv2(x)), 2)\n",
        "        self._num_flat_features = x.size(1) * x.size(2) * x.size(3)\n",
        "\n",
        "        # 第一个全连接层\n",
        "        self.fc1 = nn.Linear(self._num_flat_features, 120)\n",
        "        # 第二个全连接层，输入120，输出84\n",
        "        self.fc2 = nn.Linear(120, 84)\n",
        "        # 第三个全连接层，输入84，输出10（对应10个类别）\n",
        "        self.fc3 = nn.Linear(84, 10)\n",
        "\n",
        "\n",
        "    def forward(self, x):\n",
        "        # 第一个卷积 -> ReLu -> 最大池化\n",
        "        x = F.max_pool2d(F.relu(self.conv1(x)), (2, 2))\n",
        "        # 第二个卷积 -> ReLu -> 最大池化\n",
        "        x = F.max_pool2d(F.relu(self.conv2(x)), 2)\n",
        "        # 展平操作，将多维张量展平为一维\n",
        "        x = x.view(-1, self._num_flat_features)\n",
        "        # 第一个全连接 -> ReLu\n",
        "        x = F.relu(self.fc1(x))\n",
        "        # 第二个全连接 -> ReLu\n",
        "        x = F.relu(self.fc2(x))\n",
        "        # 第三个全连接（输出层）\n",
        "        x = self.fc3(x)\n",
        "        return x\n",
        "\n",
        "# 实例化 LeNet 模型\n",
        "# model = LeNet()\n",
        "# print(model)"
      ],
      "metadata": {
        "id": "z7yBoxlklgSW"
      },
      "execution_count": null,
      "outputs": []
    },
    {
      "cell_type": "code",
      "metadata": {
        "colab": {
          "base_uri": "https://localhost:8080/"
        },
        "id": "1185197a",
        "outputId": "f87b37ae-c5c9-4ebf-d09e-2853c4be0d2a"
      },
      "source": [
        "import torchvision\n",
        "import torchvision.transforms as transforms\n",
        "\n",
        "# 定义数据转换\n",
        "transform = transforms.Compose([\n",
        "    transforms.ToTensor(),  # 将图像转换为 Tensor\n",
        "    transforms.Normalize((0.5,), (0.5,)) # 标准化\n",
        "])\n",
        "\n",
        "# 下载并加载训练集\n",
        "trainset = torchvision.datasets.MNIST(root='./data', train=True, download=True, transform=transform)\n",
        "trainloader = torch.utils.data.DataLoader(trainset, batch_size=4, shuffle=True, num_workers=2)\n",
        "\n",
        "# 下载并加载测试集\n",
        "testset = torchvision.datasets.MNIST(root='./data', train=False, download=True, transform=transform)\n",
        "testloader = torch.utils.data.DataLoader(testset, batch_size=4, shuffle=False, num_workers=2)\n",
        "\n",
        "# 实例化 LeNet 模型\n",
        "model = LeNet()\n",
        "\n",
        "# 测试模型（使用一个批次的数据）\n",
        "dataiter = iter(testloader)\n",
        "images, labels = next(dataiter)\n",
        "\n",
        "# 将数据通过模型\n",
        "outputs = model(images)\n",
        "\n",
        "print(\"模型输出的形状:\", outputs.shape)"
      ],
      "execution_count": null,
      "outputs": [
        {
          "output_type": "stream",
          "name": "stdout",
          "text": [
            "模型输出的形状: torch.Size([4, 10])\n"
          ]
        }
      ]
    }
  ]
}